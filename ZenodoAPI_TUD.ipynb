{
 "cells": [
  {
   "cell_type": "markdown",
   "metadata": {
    "colab_type": "text",
    "id": "d6Q1F4tKTu96"
   },
   "source": [
    "# Zenodo API (Example for TU Delft)\n",
    "This Zenodo API query is taken from Chris Erdmann's example given as part of Library Carpentry (https://github.com/LibraryCarpentry/awesome-jupyter-glam/blob/master/notebooks-guides/Zenodo_API_Notebook.ipynb). \n",
    "\n",
    "Demonstration of how to query the Zenodo REST API. First of all, we create a couple of Python helper functions and classes to make it easier to query Zenodo. Don't worry about the details:"
   ]
  },
  {
   "cell_type": "code",
   "execution_count": 13,
   "metadata": {
    "colab": {
     "autoexec": {
      "startup": false,
      "wait_interval": 0
     }
    },
    "colab_type": "code",
    "id": "F9WF-j-ETu97"
   },
   "outputs": [],
   "source": [
    "import requests\n",
    "\n",
    "def raise_on_error(res):\n",
    "    \"\"\"Helper to check response for errors.\"\"\"\n",
    "    if res.status_code != 200:\n",
    "        data = res.json()\n",
    "        raise Exception('[{status}] {message}'.format(**data))\n",
    "\n",
    "        \n",
    "class ResultWrapper(object):\n",
    "    \"\"\"Helper to work with search results\"\"\"\n",
    "    def __init__(self, session, response):\n",
    "        raise_on_error(response)\n",
    "        self._session = session\n",
    "        self.response = response\n",
    "        \n",
    "    def has_json(self):\n",
    "        \"\"\"Check if content type is JSON.\"\"\"\n",
    "        return self.response.headers['Content-Type'] == 'application/json'\n",
    "            \n",
    "    @property\n",
    "    def data(self):\n",
    "        \"\"\"Get JSON data.\"\"\"\n",
    "        return self.response.json() if self.has_json() else {}\n",
    "    \n",
    "    @property\n",
    "    def aggregations(self):\n",
    "        \"\"\"Get aggregations.\"\"\"\n",
    "        return self.response.json()['aggregations']  if self.has_json() else {}\n",
    "    \n",
    "    @property\n",
    "    def total(self):\n",
    "        \"\"\"Get total number of hits.\"\"\"\n",
    "        return self.response.json()['hits']['total'] if self.has_json() else None\n",
    "        \n",
    "    @property\n",
    "    def pages(self):\n",
    "        \"\"\"Helper to fetch all result pages.\"\"\"\n",
    "        yield self.response\n",
    "        next_url = self.response.links.get('next', {}).get('url')\n",
    "        while next_url:\n",
    "            res_page = self._session.get(next_url)\n",
    "            raise_on_error(res_page)\n",
    "            yield res_page\n",
    "            next_url = res_page.links.get('next', {}).get('url')\n",
    "    \n",
    "    @property\n",
    "    def hits(self):\n",
    "        \"\"\"Helper to iterate over each hit.\"\"\"\n",
    "        if not self.has_json():\n",
    "            return None\n",
    "        for res in self.pages:\n",
    "            for h in res.json()['hits']['hits']:\n",
    "                yield h\n",
    "                \n",
    "class ZenodoClient(object):\n",
    "    \"\"\"Simple Zenodo API Client\"\"\"\n",
    "\n",
    "    def __init__(self, accept=None, token=None):\n",
    "        self._accept = accept\n",
    "        self._token = token\n",
    "        self._session = None\n",
    "        self._endpoint = 'https://www.zenodo.org/api/'\n",
    "        self._endpoint_search = '{}records/'.format(self._endpoint)\n",
    "        self._endpoint_styles = '{}csl/styles'.format(self._endpoint)\n",
    "        \n",
    "    @property\n",
    "    def session(self):\n",
    "        \"\"\"Create a session for making HTTP requests to the API.\"\"\"\n",
    "        if self._session is None:\n",
    "            self._session = requests.Session()    \n",
    "            # Construct headers\n",
    "            headers = {\n",
    "                'Accept': self._accept or 'application/vnd.zenodo.v1+json',\n",
    "                'Accept-Charset': 'utf-8',\n",
    "            }\n",
    "            if self._token:\n",
    "                headers['Authorization'] = 'Bearer {}'.format(self._token)            \n",
    "            self._session.headers.update(headers)\n",
    "        return self._session\n",
    "\n",
    "    def search(self, query=None, size=None, sort=None, **filters):\n",
    "        \"\"\"Search Zenodo\"\"\"\n",
    "        params = {'q': query or '', 'sort': sort or 'bestmatch', 'size': size or 100}\n",
    "        if filters:\n",
    "            for f, vals in filters.items():\n",
    "                params[f] = vals\n",
    "        return ResultWrapper(self.session, self.session.get(self._endpoint_search, params=params))\n",
    "    \n",
    "    def record(self, record_id, accept=None, **params):\n",
    "        \"\"\"Retrieve a single record.\"\"\"\n",
    "        url = '{base}{recid}'.format(base=self._endpoint_search, recid=record_id)\n",
    "        params = params or {}\n",
    "        headers = self.session.headers\n",
    "        if accept:\n",
    "            headers['Accept'] = accept\n",
    "            \n",
    "        res = self.session.get(url, headers=headers, params=params)\n",
    "        raise_on_error(res)\n",
    "        return res\n",
    "    \n",
    "    def csl_styles(self):\n",
    "        res = self.session.get(self._endpoint_styles)\n",
    "        raise_on_error(res)\n",
    "        return res\n",
    "        "
   ]
  },
  {
   "cell_type": "markdown",
   "metadata": {
    "colab_type": "text",
    "id": "6yH4IYPITu9-"
   },
   "source": [
    "## Initialize the API client and make a query\n",
    "Using our just created helper classes we can now create a Zenodo API client:"
   ]
  },
  {
   "cell_type": "code",
   "execution_count": 14,
   "metadata": {
    "colab": {
     "autoexec": {
      "startup": false,
      "wait_interval": 0
     }
    },
    "colab_type": "code",
    "id": "CMW19B6BTu9_"
   },
   "outputs": [],
   "source": [
    "api = ZenodoClient()"
   ]
  },
  {
   "cell_type": "markdown",
   "metadata": {
    "colab_type": "text",
    "id": "HRa5xm75Tu-B"
   },
   "source": [
    "### Simple search"
   ]
  },
  {
   "cell_type": "markdown",
   "metadata": {
    "colab_type": "text",
    "id": "ncZbMTDfTu-C"
   },
   "source": [
    "Using the API client we can now execute queries against Zenodo search API:"
   ]
  },
  {
   "cell_type": "code",
   "execution_count": 15,
   "metadata": {
    "colab": {
     "autoexec": {
      "startup": false,
      "wait_interval": 0
     },
     "base_uri": "https://localhost:8080/",
     "height": 34
    },
    "colab_type": "code",
    "executionInfo": {
     "elapsed": 3013,
     "status": "ok",
     "timestamp": 1516698631661,
     "user": {
      "displayName": "Christopher Erdmann",
      "photoUrl": "//lh4.googleusercontent.com/-6MICru_0gt0/AAAAAAAAAAI/AAAAAAAAAAo/DbCa8uLldiw/s50-c-k-no/photo.jpg",
      "userId": "110635524421337976220"
     },
     "user_tz": -60
    },
    "id": "XtFlMyjvTu-C",
    "outputId": "90e1cff2-666e-4276-e97c-a95acb72fca4"
   },
   "outputs": [
    {
     "data": {
      "text/plain": [
       "1413"
      ]
     },
     "execution_count": 15,
     "metadata": {},
     "output_type": "execute_result"
    }
   ],
   "source": [
    "result = api.search('Delft')\n",
    "result.total"
   ]
  },
  {
   "cell_type": "markdown",
   "metadata": {
    "colab_type": "text",
    "id": "JcAkv5fgTu-G"
   },
   "source": [
    "### Phrase search\n",
    "\n",
    "The query string is exactly like you would type in the Zenodo search box. The underlying search engine on Zenodo is Elasticsearch, which has a powerful query syntax. Above, we are searching for 4 terms, let's instead make it into a phrase search:"
   ]
  },
  {
   "cell_type": "code",
   "execution_count": 16,
   "metadata": {
    "colab": {
     "autoexec": {
      "startup": false,
      "wait_interval": 0
     },
     "base_uri": "https://localhost:8080/",
     "height": 34
    },
    "colab_type": "code",
    "executionInfo": {
     "elapsed": 1430,
     "status": "ok",
     "timestamp": 1516698640964,
     "user": {
      "displayName": "Christopher Erdmann",
      "photoUrl": "//lh4.googleusercontent.com/-6MICru_0gt0/AAAAAAAAAAI/AAAAAAAAAAo/DbCa8uLldiw/s50-c-k-no/photo.jpg",
      "userId": "110635524421337976220"
     },
     "user_tz": -60
    },
    "id": "Tfbyo-yDTu-J",
    "outputId": "70b0fb3e-9b90-4746-947a-2cd1094122eb"
   },
   "outputs": [
    {
     "data": {
      "text/plain": [
       "1413"
      ]
     },
     "execution_count": 16,
     "metadata": {},
     "output_type": "execute_result"
    }
   ],
   "source": [
    "result = api.search('\"Delft\"')\n",
    "result.total"
   ]
  },
  {
   "cell_type": "markdown",
   "metadata": {
    "colab_type": "text",
    "id": "_7eebfjvTu-M"
   },
   "source": [
    "### Field search"
   ]
  },
  {
   "cell_type": "code",
   "execution_count": 17,
   "metadata": {
    "colab": {
     "autoexec": {
      "startup": false,
      "wait_interval": 0
     },
     "base_uri": "https://localhost:8080/",
     "height": 34
    },
    "colab_type": "code",
    "executionInfo": {
     "elapsed": 1274,
     "status": "ok",
     "timestamp": 1516698645484,
     "user": {
      "displayName": "Christopher Erdmann",
      "photoUrl": "//lh4.googleusercontent.com/-6MICru_0gt0/AAAAAAAAAAI/AAAAAAAAAAo/DbCa8uLldiw/s50-c-k-no/photo.jpg",
      "userId": "110635524421337976220"
     },
     "user_tz": -60
    },
    "id": "VxG9HRNBTu-N",
    "outputId": "fc3b757b-aba7-44fe-db24-9b71b0eff134"
   },
   "outputs": [
    {
     "data": {
      "text/plain": [
       "783"
      ]
     },
     "execution_count": 17,
     "metadata": {},
     "output_type": "execute_result"
    }
   ],
   "source": [
    "tud_query = '+creators.affiliation:(\"TUD\" \"TU Delft\" \"Delft University of Technology\") +doi:10.5281*'\n",
    "result = api.search(tud_query)\n",
    "result.total"
   ]
  },
  {
   "cell_type": "markdown",
   "metadata": {
    "colab_type": "text",
    "id": "a1b_R4MaTu-R"
   },
   "source": [
    "Notice the query string. Here is a couple of points:\n",
    "\n",
    "* **Field search**: We are now searching on two specific fields - ``creators.affiliation`` and ``doi``.\n",
    "* **Required fields**: The small ``+`` in front the field indicate the field must be present (i.e. both fields are required sincen they have a plus in the front).\n",
    "* **Field multi-term**: On ``creators.affiliation`` we search for ``NCSU`` or ``NC State University`` or ``North Carolina State University``.\n",
    "* **Wildcard**: On the ``doi`` field we search for any string starting with ``10.5281`` (the Zenodo DOI prefix).\n",
    "\n",
    "The full query syntax is documented [here](https://www.elastic.co/guide/en/elasticsearch/reference/current/query-dsl-query-string-query.html#query-string-syntax)."
   ]
  },
  {
   "cell_type": "markdown",
   "metadata": {
    "colab_type": "text",
    "id": "mQq-WADtTu-S"
   },
   "source": [
    "## Data inspection\n",
    "Let's know inspect the author affiliations. First let's get all the records and create a list of all the author affiliations:"
   ]
  },
  {
   "cell_type": "code",
   "execution_count": 18,
   "metadata": {
    "colab": {
     "autoexec": {
      "startup": false,
      "wait_interval": 0
     }
    },
    "colab_type": "code",
    "id": "O7H2OZGfTu-S"
   },
   "outputs": [],
   "source": [
    "# Retrieve all records (be careful with large result sets!)\n",
    "records = list(result.hits)\n",
    "\n",
    "# Build a list of author affiliations\n",
    "affiliations = []\n",
    "for record in records:\n",
    "    for creator in record['metadata']['creators']:\n",
    "            affiliations.append(creator.get('affiliation'))"
   ]
  },
  {
   "cell_type": "markdown",
   "metadata": {
    "colab_type": "text",
    "id": "doGKCzYBTu-V"
   },
   "source": [
    "Next, let's all the affiliations:"
   ]
  },
  {
   "cell_type": "code",
   "execution_count": 19,
   "metadata": {
    "colab": {
     "autoexec": {
      "startup": false,
      "wait_interval": 0
     }
    },
    "colab_type": "code",
    "id": "XyLN8QDXTu-W"
   },
   "outputs": [
    {
     "data": {
      "text/html": [
       "<div>\n",
       "<style scoped>\n",
       "    .dataframe tbody tr th:only-of-type {\n",
       "        vertical-align: middle;\n",
       "    }\n",
       "\n",
       "    .dataframe tbody tr th {\n",
       "        vertical-align: top;\n",
       "    }\n",
       "\n",
       "    .dataframe thead th {\n",
       "        text-align: right;\n",
       "    }\n",
       "</style>\n",
       "<table border=\"1\" class=\"dataframe\">\n",
       "  <thead>\n",
       "    <tr style=\"text-align: right;\">\n",
       "      <th></th>\n",
       "      <th>affiliation</th>\n",
       "      <th>count</th>\n",
       "    </tr>\n",
       "  </thead>\n",
       "  <tbody>\n",
       "    <tr>\n",
       "      <th>134</th>\n",
       "      <td>Delft University of Technology</td>\n",
       "      <td>642</td>\n",
       "    </tr>\n",
       "    <tr>\n",
       "      <th>556</th>\n",
       "      <td>TU Delft</td>\n",
       "      <td>333</td>\n",
       "    </tr>\n",
       "    <tr>\n",
       "      <th>428</th>\n",
       "      <td>Netherlands eScience Center</td>\n",
       "      <td>56</td>\n",
       "    </tr>\n",
       "    <tr>\n",
       "      <th>708</th>\n",
       "      <td>University of Zurich</td>\n",
       "      <td>45</td>\n",
       "    </tr>\n",
       "    <tr>\n",
       "      <th>488</th>\n",
       "      <td>REE</td>\n",
       "      <td>26</td>\n",
       "    </tr>\n",
       "  </tbody>\n",
       "</table>\n",
       "</div>"
      ],
      "text/plain": [
       "                        affiliation  count\n",
       "134  Delft University of Technology    642\n",
       "556                        TU Delft    333\n",
       "428     Netherlands eScience Center     56\n",
       "708            University of Zurich     45\n",
       "488                             REE     26"
      ]
     },
     "execution_count": 19,
     "metadata": {},
     "output_type": "execute_result"
    }
   ],
   "source": [
    "# Create a Pandas data frame\n",
    "import pandas as pd\n",
    "df = pd.DataFrame(data=affiliations, columns=['affiliation'])\n",
    "df.groupby('affiliation').size().reset_index(name='count').sort_values(by=['count'], ascending=False).head()"
   ]
  },
  {
   "cell_type": "markdown",
   "metadata": {
    "colab_type": "text",
    "id": "v6jV6tAzTu-Z"
   },
   "source": [
    "## Export a bibliograph\n",
    "Zenodo supports several other output metadata formats other than JSON. For search results Zenodo can produce the following metadata formats:\n",
    "\n",
    "* BibTex: ``application/x-bibtex``\n",
    "* DublinCore: ``application/x-dc+xml``\n",
    "* DataCite: ``application/x-datacite+xml``\n",
    "* MARC21: ``application/marcxml+xml``\n",
    "\n",
    "For individual records the following additional formats can be produced:\n",
    "\n",
    "* JSON-LD: ``application/ld+json``\n",
    "* Citation Style Language (CSL): ``application/vnd.citationstyles.csl+json``\n",
    "* Citation text: ``text/x-bibliography``\n",
    "\n",
    "For instance we can export a BibTeX bibliography of all records in above search query and write it to a file:"
   ]
  },
  {
   "cell_type": "code",
   "execution_count": 20,
   "metadata": {
    "colab": {
     "autoexec": {
      "startup": false,
      "wait_interval": 0
     }
    },
    "colab_type": "code",
    "id": "Fb7UMjh9Tu-Z"
   },
   "outputs": [],
   "source": [
    "# Create a API client (specifying the desired output format)\n",
    "api = ZenodoClient(accept='application/x-bibtex')\n",
    "\n",
    "# Execute query and write result to \"bibliography.bib\"\n",
    "result = api.search(tud_query)\n",
    "with open('bibliography.bib', 'wb') as fp:\n",
    "    # Iterate over all the results and write them to the file.\n",
    "    for page in result.pages:\n",
    "        fp.write(page.content)"
   ]
  },
  {
   "cell_type": "markdown",
   "metadata": {
    "colab_type": "text",
    "id": "-ZPDVxsDTu-b"
   },
   "source": [
    "## Aggregations\n",
    "Want to know about types, open/closed access, file types and keywords?"
   ]
  },
  {
   "cell_type": "code",
   "execution_count": 21,
   "metadata": {
    "colab": {
     "autoexec": {
      "startup": false,
      "wait_interval": 0
     }
    },
    "colab_type": "code",
    "id": "5PyDTqkzTu-b",
    "outputId": "0cde7801-bcf7-4d08-9947-39f81cc9d592"
   },
   "outputs": [
    {
     "name": "stdout",
     "output_type": "stream",
     "text": [
      "publication: 261\n",
      "presentation: 142\n",
      "software: 126\n",
      "dataset: 125\n",
      "image: 86\n",
      "poster: 21\n",
      "other: 15\n",
      "lesson: 4\n",
      "video: 3\n"
     ]
    }
   ],
   "source": [
    "api = ZenodoClient()\n",
    "result = api.search(tud_query)\n",
    "for b in result.aggregations['type']['buckets']:\n",
    "    print('{key}: {doc_count}'.format(**b))\n"
   ]
  },
  {
   "cell_type": "code",
   "execution_count": 22,
   "metadata": {
    "colab": {
     "autoexec": {
      "startup": false,
      "wait_interval": 0
     }
    },
    "colab_type": "code",
    "id": "TLE9sHsBTu-f",
    "outputId": "3feb9360-3dcd-4b02-a712-e55fbdb06234"
   },
   "outputs": [
    {
     "name": "stdout",
     "output_type": "stream",
     "text": [
      "open: 774\n",
      "closed: 4\n",
      "restricted: 4\n",
      "embargoed: 1\n"
     ]
    }
   ],
   "source": [
    "for b in result.aggregations['access_right']['buckets']:\n",
    "    print('{key}: {doc_count}'.format(**b))"
   ]
  },
  {
   "cell_type": "code",
   "execution_count": 23,
   "metadata": {
    "colab": {
     "autoexec": {
      "startup": false,
      "wait_interval": 0
     }
    },
    "colab_type": "code",
    "id": "67lTV8F3Tu-j",
    "outputId": "9ee8f3ed-7673-46a1-869d-f9167fa5b089"
   },
   "outputs": [
    {
     "name": "stdout",
     "output_type": "stream",
     "text": [
      "Photonics: 87\n",
      "Bookmark: 81\n",
      "Light: 79\n",
      "outreach: 79\n",
      "science communication: 78\n",
      "data stewardship: 42\n",
      "RDM: 38\n",
      "TU Delft: 31\n",
      "open science: 27\n",
      "LED: 23\n"
     ]
    }
   ],
   "source": [
    "for b in result.aggregations['keywords']['buckets']:\n",
    "    print('{key}: {doc_count}'.format(**b))"
   ]
  },
  {
   "cell_type": "code",
   "execution_count": 24,
   "metadata": {
    "colab": {
     "autoexec": {
      "startup": false,
      "wait_interval": 0
     }
    },
    "colab_type": "code",
    "id": "7SwUZyX3Tu-n",
    "outputId": "0ef0035c-7cca-4856-a494-13804e164e22"
   },
   "outputs": [
    {
     "name": "stdout",
     "output_type": "stream",
     "text": [
      "pdf: 384\n",
      "zip: 190\n",
      "pptx: 99\n",
      "png: 84\n",
      "txt: 19\n",
      "xlsx: 15\n",
      "csv: 12\n",
      "gz: 12\n",
      "md: 9\n",
      "py: 7\n"
     ]
    }
   ],
   "source": [
    "for b in result.aggregations['file_type']['buckets']:\n",
    "    print('{key}: {doc_count}'.format(**b))"
   ]
  },
  {
   "cell_type": "code",
   "execution_count": null,
   "metadata": {},
   "outputs": [],
   "source": []
  }
 ],
 "metadata": {
  "colab": {
   "default_view": {},
   "name": "Zenodo API Notebook.ipynb",
   "provenance": [],
   "version": "0.3.2",
   "views": {}
  },
  "kernelspec": {
   "display_name": "Python 3",
   "language": "python",
   "name": "python3"
  },
  "language_info": {
   "codemirror_mode": {
    "name": "ipython",
    "version": 3
   },
   "file_extension": ".py",
   "mimetype": "text/x-python",
   "name": "python",
   "nbconvert_exporter": "python",
   "pygments_lexer": "ipython3",
   "version": "3.7.1"
  }
 },
 "nbformat": 4,
 "nbformat_minor": 1
}
